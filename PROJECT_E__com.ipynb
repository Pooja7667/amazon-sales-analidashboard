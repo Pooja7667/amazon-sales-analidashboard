{
  "nbformat": 4,
  "nbformat_minor": 0,
  "metadata": {
    "colab": {
      "private_outputs": true,
      "provenance": [],
      "authorship_tag": "ABX9TyNYxbKaC0glRZXI5a75HWLg",
      "include_colab_link": true
    },
    "kernelspec": {
      "name": "python3",
      "display_name": "Python 3"
    },
    "language_info": {
      "name": "python"
    }
  },
  "cells": [
    {
      "cell_type": "markdown",
      "metadata": {
        "id": "view-in-github",
        "colab_type": "text"
      },
      "source": [
        "<a href=\"https://colab.research.google.com/github/Pooja7667/amazon-sales-analidashboard/blob/main/PROJECT_E__com.ipynb\" target=\"_parent\"><img src=\"https://colab.research.google.com/assets/colab-badge.svg\" alt=\"Open In Colab\"/></a>"
      ]
    },
    {
      "cell_type": "code",
      "source": [
        "import pandas as pd\n",
        "import numpy as  np\n",
        "\n",
        "df=pd.read_csv(\"/content/cleaned_sales_data.csv\")\n",
        "df\n"
      ],
      "metadata": {
        "id": "fxBMofHzk0Sr"
      },
      "execution_count": null,
      "outputs": []
    },
    {
      "cell_type": "code",
      "source": [
        "df.info()"
      ],
      "metadata": {
        "id": "9qYD6iSUl4EQ"
      },
      "execution_count": null,
      "outputs": []
    },
    {
      "cell_type": "code",
      "source": [
        "df.isnull().sum()"
      ],
      "metadata": {
        "id": "Gn7ZjPCMl8oL"
      },
      "execution_count": null,
      "outputs": []
    },
    {
      "cell_type": "code",
      "source": [
        "df.dropna()"
      ],
      "metadata": {
        "id": "gRqYsvjAmhYi"
      },
      "execution_count": null,
      "outputs": []
    },
    {
      "cell_type": "markdown",
      "source": [
        "# # Goal: Understand what’s selling well, when, and how much revenue is generated."
      ],
      "metadata": {
        "id": "sNVQhXX3YrqO"
      }
    },
    {
      "cell_type": "code",
      "source": [
        "df[\"total_sales\"]=df[\"Quantity\"] *df[\"Price\"]"
      ],
      "metadata": {
        "id": "-st_Qeqfm3hM"
      },
      "execution_count": null,
      "outputs": []
    },
    {
      "cell_type": "code",
      "source": [
        "import seaborn as sns\n",
        "import matplotlib.pyplot as plt\n",
        "\n",
        "\n",
        "pp=df.groupby(\"ProductName\")[\"total_sales\"].sum().sort_values(ascending=False)\n",
        "\n",
        "print(pp)\n",
        "\n"
      ],
      "metadata": {
        "id": "A4_kFLUETRim"
      },
      "execution_count": null,
      "outputs": []
    },
    {
      "cell_type": "markdown",
      "source": [
        "# #  2. Inventory Management\n",
        "Goal: Avoid overstock or stockouts.\n",
        "\n",
        "You can decide:\n",
        "🔸 Which products need restocking due to high quantity sold"
      ],
      "metadata": {
        "id": "zncSk8kRY0UK"
      }
    },
    {
      "cell_type": "code",
      "metadata": {
        "id": "f9586290"
      },
      "source": [
        "pp=df.groupby(\"ProductName\")[\"total_sales\"].sum().sort_values(ascending=False).head(10)"
      ],
      "execution_count": null,
      "outputs": []
    },
    {
      "cell_type": "code",
      "metadata": {
        "id": "65b620ef"
      },
      "source": [
        "import seaborn as sns\n",
        "import matplotlib.pyplot as plt\n",
        "\n",
        "sns.barplot(x=pp.index, y=pp.values)\n",
        "plt.xticks(rotation=90)\n",
        "plt.show()"
      ],
      "execution_count": null,
      "outputs": []
    },
    {
      "cell_type": "markdown",
      "source": [
        "#  3. Customer Segmentation\n",
        "Goal: Identify valuable customers and personalize marketing.\n",
        "\n",
        "You can decide:\n",
        "🔸 Who are your top customers (based on total spend)"
      ],
      "metadata": {
        "id": "KhfJquUuY3OF"
      }
    },
    {
      "cell_type": "code",
      "source": [
        "\n",
        "pp=df.groupby(\"CustomerNo\")[\"total_sales\"].sum().sort_values(ascending=False)\n",
        "\n",
        "print(pp)"
      ],
      "metadata": {
        "id": "ShnQTz70Wmze"
      },
      "execution_count": null,
      "outputs": []
    },
    {
      "cell_type": "markdown",
      "source": [
        "# 🔹 4. Returns & Product Quality\n",
        "Goal: Spot product or logistics issues using ReturnFlag.\n",
        "\n",
        "You can decide:\n",
        "🔸 Which products are returned most often (may indicate quality issues)\n",
        "\n",
        "🔸 Which customers return the most (flag for analysis or feedback)"
      ],
      "metadata": {
        "id": "en4zg0vvZAea"
      }
    },
    {
      "cell_type": "code",
      "metadata": {
        "id": "f32d2f4c"
      },
      "source": [
        "\n",
        "returned_products = df[df['ReturnFlag'] == True]\n",
        "\n",
        "\n",
        "most_returned_products = returned_products['ProductName'].value_counts().head(10)\n",
        "\n",
        "print(\"Top 10 most returned products:\")\n",
        "display(most_returned_products)\n",
        "\n",
        "\n",
        "sns.barplot(x=most_returned_products.index, y=most_returned_products.values)\n",
        "plt.xticks(rotation=90)\n",
        "plt.show()"
      ],
      "execution_count": null,
      "outputs": []
    },
    {
      "cell_type": "markdown",
      "source": [
        "#  5. Pricing Decisions\n",
        "Goal: Analyze how price affects sales volume.\n",
        "\n",
        "You can decide:\n",
        "🔸 Are higher-priced items being sold as much as cheaper ones?\n",
        "\n",
        "🔸 Should you discount certain products to increase sales volume?"
      ],
      "metadata": {
        "id": "o-wUjIu3ZiMs"
      }
    },
    {
      "cell_type": "code",
      "source": [
        "c = df.groupby(\"Price\")[\"Quantity\"].sum().reset_index().rename(columns={'Quantity': 'TotalQuantity'})\n",
        "\n",
        "# Select the top 20 price points based on total quantity sold\n",
        "c_top_20 = c.nlargest(20, 'TotalQuantity')\n",
        "\n",
        "\n",
        "plt.figure(figsize=(14,6))\n",
        "sns.barplot(data=c_top_20, x=\"Price\", y=\"TotalQuantity\", palette=\"viridis\")\n",
        "\n",
        "plt.title(\"Top 20 Price Points by Total Quantity Sold\", fontsize=14)\n",
        "plt.xlabel(\"Price\", fontsize=12)\n",
        "plt.ylabel(\"Total Quantity Sold\", fontsize=12)\n",
        "plt.xticks(rotation=45)\n",
        "plt.tight_layout()\n",
        "plt.grid(True, axis='y', linestyle='--', alpha=0.7)\n",
        "plt.show()"
      ],
      "metadata": {
        "id": "dul_RrD4ZsOC"
      },
      "execution_count": null,
      "outputs": []
    },
    {
      "cell_type": "markdown",
      "source": [
        "# 🔹 6. Time-Based Trends\n",
        "Goal: Prepare for demand spikes.\n",
        "\n",
        "You can decide:\n",
        "🔸 When to increase stock (e.g., during festive seasons or end of year)\n",
        "\n",
        "🔸 Which days of the week or months perform bette"
      ],
      "metadata": {
        "id": "EmhY0KL8mhN1"
      }
    },
    {
      "cell_type": "code",
      "source": [
        "df['Date'] = pd.to_datetime(df['Date'], format='%d/%m/%Y', errors='coerce')\n",
        "\n",
        "df['month'] = df['Date'].dt.month\n",
        "\n",
        "# Group by the new 'month' column and sum the 'total_sales'\n",
        "months_sales = df.groupby('month')['total_sales'].sum().sort_values(ascending=False)\n",
        "\n",
        "print(months_sales)\n",
        "\n",
        "\n",
        "plt.title(\"moths wise sales\")\n",
        "sns.barplot(x=months_sales.index,y=months_sales)\n",
        "plt.show()"
      ],
      "metadata": {
        "id": "bz7Sufs-oIm-"
      },
      "execution_count": null,
      "outputs": []
    },
    {
      "cell_type": "markdown",
      "source": [
        "# ✅ Key Insights from Overall E-Commerce Sales Analysis\n",
        "High Sales Volume at Specific Price Points\n",
        "\n",
        "₹6.19 is the most frequent and highest-selling price point by quantity.\n",
        "\n",
        "Price sensitivity is evident — products in the ₹6–₹12 range sell the most.\n",
        "\n",
        "Certain Products Drive Majority of Sales\n",
        "\n",
        "# A few price points dominate the volume, suggesting a concentration of sales in a small number of products.\n",
        "\n",
        "Customer Behavior Clusters\n",
        "\n",
        "# Frequent transactions by certain CustomerNo indicate repeat buyers.\n",
        "\n",
        "Suggests potential for customer loyalty programs or targeted marketing.\n",
        "\n",
        "Strong Seasonal or Daily Trends Expected\n",
        "\n",
        "# Based on the Date column, time-series analysis can uncover seasonal spikes or weekday vs weekend performance patterns.\n",
        "\n",
        "Returns Are Present but Limited\n",
        "\n",
        "ReturnFlag == TRUE is relatively rare.\n",
        "\n",
        "# This indicates customer satisfaction is generally high, or returns are not common.\n",
        "\n",
        "Geographic Sales Focus\n",
        "\n",
        "# The majority of sales are likely from United Kingdom, meaning marketing and stock strategies can be region-focused.\n",
        "\n",
        "Price vs Quantity Shows Buying Patterns\n",
        "\n",
        "Mid-range prices like ₹10.65–₹12.25 show stable quantity sales.\n",
        "\n",
        "High-priced items sell less — opportunity for discounts or bundling.\n",
        "\n",
        "# 📌 Recommendations\n",
        "✅ Focus inventory and marketing on top-selling price points and customer segments.\n",
        "\n",
        "🛒 Analyze products at low sales or high return rates for improvement or discontinuation.\n",
        "\n",
        "📈 Use time-based sales data to optimize campaigns during peak periods.\n",
        "\n",
        "💡 Consider personalized offers for repeat customers to boost retention."
      ],
      "metadata": {
        "id": "_QE89-OIR7y6"
      }
    }
  ]
}